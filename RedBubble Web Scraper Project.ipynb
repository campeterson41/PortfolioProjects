{
 "cells": [
  {
   "cell_type": "code",
   "execution_count": 165,
   "id": "95bbaed8",
   "metadata": {},
   "outputs": [],
   "source": [
    "# importing libraries\n",
    "\n",
    "from bs4 import BeautifulSoup\n",
    "import requests\n",
    "import smtplib\n",
    "import time\n",
    "import datetime\n",
    "import csv"
   ]
  },
  {
   "cell_type": "code",
   "execution_count": null,
   "id": "29b182a1",
   "metadata": {},
   "outputs": [],
   "source": [
    "# connecting to website and pulling in/cleaning data\n",
    "\n",
    "from bs4 import BeautifulSoup\n",
    "import requests\n",
    "\n",
    "url = 'https://www.redbubble.com/i/t-shirt/I-m-Silently-Creating-A-Spreadsheet-For-That-Funny-Accountant-by-Easy-Teezy/82363184.IJ6L0'\n",
    "headers = {\"User-Agent\": \"Mozilla/5.0 (Windows NT 10.0; Win64; x64) AppleWebKit/537.36 (KHTML, like Gecko) Chrome/78.0.3904.108 Safari/537.36\", \"Accept-Encoding\":\"gzip, deflate\", \"Accept\":\"text/html,application/xhtml+xml,application/xml;q=0.9,*/*;q=0.8\", \"DNT\":\"1\",\"Connection\":\"close\", \"Upgrade-Insecure-Requests\":\"1\"}\n",
    "page = requests.get(url, headers=headers)\n",
    "\n",
    "soup = BeautifulSoup(page.text, 'html')\n",
    "\n",
    "title_soup = soup.find_all('h1')\n",
    "title = [title.text for title in title_soup]\n",
    "title = str(title)[2:-2]\n",
    "\n",
    "price_soup = soup.find_all('span', class_ = \"styles_box__54ba70e3 styles_text__5c7a80ef styles_display2__5c7a80ef Price_discounted__hXIZA styles_marginRightXxs__54ba70e3 styles_textAlignLeft__54ba70e3\")\n",
    "price = [price.text for price in price_soup]\n",
    "price = str(price)[3:-2]\n",
    "\n",
    "import datetime\n",
    "today = datetime.date.today()"
   ]
  },
  {
   "cell_type": "code",
   "execution_count": 171,
   "id": "52368a7d",
   "metadata": {},
   "outputs": [],
   "source": [
    "# creating csv & writing headers/data into the file\n",
    "\n",
    "header = ['Title', 'Price', 'Date']\n",
    "data = [title, price, today]\n",
    "\n",
    "with open('RedBubbleWebScraper.csv', 'w', newline='', encoding='UTF8') as f:\n",
    "    writer = csv.writer(f)\n",
    "    writer.writerow(header)\n",
    "    writer.writerow(data)"
   ]
  },
  {
   "cell_type": "code",
   "execution_count": null,
   "id": "c03dfc34",
   "metadata": {},
   "outputs": [],
   "source": [
    "# appending new data to csv\n",
    "\n",
    "with open('RedBubbleWebScraper.csv', 'a+', newline='', encoding='UTF8') as f:\n",
    "    writer = csv.writer(f)\n",
    "    writer.writerow(data)"
   ]
  },
  {
   "cell_type": "code",
   "execution_count": null,
   "id": "cc0bd7b9",
   "metadata": {},
   "outputs": [],
   "source": [
    "# turning code into a function\n",
    "\n",
    "def check_price():\n",
    "    import csv\n",
    "    import datetime\n",
    "    \n",
    "    url = 'https://www.redbubble.com/i/t-shirt/I-m-Silently-Creating-A-Spreadsheet-For-That-Funny-Accountant-by-Easy-Teezy/82363184.IJ6L0'\n",
    "    headers = {\"User-Agent\": \"Mozilla/5.0 (Windows NT 10.0; Win64; x64) AppleWebKit/537.36 (KHTML, like Gecko) Chrome/78.0.3904.108 Safari/537.36\", \"Accept-Encoding\":\"gzip, deflate\", \"Accept\":\"text/html,application/xhtml+xml,application/xml;q=0.9,*/*;q=0.8\", \"DNT\":\"1\",\"Connection\":\"close\", \"Upgrade-Insecure-Requests\":\"1\"}\n",
    "    page = requests.get(url, headers=headers)\n",
    "\n",
    "    soup = BeautifulSoup(page.text, 'html')\n",
    "\n",
    "    title_soup = soup.find_all('h1')\n",
    "    title = [title.text for title in title_soup]\n",
    "    title = str(title)[2:-2]\n",
    "\n",
    "    price_soup = soup.find_all('span', class_ = \"styles_box__54ba70e3 styles_text__5c7a80ef styles_display2__5c7a80ef Price_discounted__hXIZA styles_marginRightXxs__54ba70e3 styles_textAlignLeft__54ba70e3\")\n",
    "    price = [price.text for price in price_soup]\n",
    "    price = str(price)[3:-2]\n",
    "\n",
    "    today = datetime.date.today()\n",
    "    \n",
    "    header = ['Title', 'Price', 'Date']\n",
    "    data = [title, price, today]\n",
    "    \n",
    "    with open('RedBubbleWebScraper.csv', 'a+', newline='', encoding='UTF8') as f:\n",
    "        writer = csv.writer(f)\n",
    "        writer.writerow(data)"
   ]
  },
  {
   "cell_type": "code",
   "execution_count": null,
   "id": "a790d9dd",
   "metadata": {},
   "outputs": [],
   "source": [
    "# calling function every 24 hrs to check price of product\n",
    "\n",
    "while(True):\n",
    "    check_price()\n",
    "    time.sleep(86400)"
   ]
  }
 ],
 "metadata": {
  "kernelspec": {
   "display_name": "Python 3 (ipykernel)",
   "language": "python",
   "name": "python3"
  },
  "language_info": {
   "codemirror_mode": {
    "name": "ipython",
    "version": 3
   },
   "file_extension": ".py",
   "mimetype": "text/x-python",
   "name": "python",
   "nbconvert_exporter": "python",
   "pygments_lexer": "ipython3",
   "version": "3.10.9"
  }
 },
 "nbformat": 4,
 "nbformat_minor": 5
}
